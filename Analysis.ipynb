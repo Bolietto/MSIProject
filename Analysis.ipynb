{
 "cells": [
  {
   "cell_type": "code",
   "execution_count": 1,
   "metadata": {},
   "outputs": [
    {
     "name": "stdout",
     "output_type": "stream",
     "text": [
      "\n",
      "Scores:\n",
      " (4, 10, 10)\n"
     ]
    }
   ],
   "source": [
    "import numpy as np\n",
    "\n",
    "scores = np.load('results_f1.npy')\n",
    "print(\"\\nScores:\\n\", scores.shape)\n"
   ]
  },
  {
   "cell_type": "code",
   "execution_count": 2,
   "metadata": {},
   "outputs": [
    {
     "name": "stdout",
     "output_type": "stream",
     "text": [
      "\n",
      "Mean scores:\n",
      " [[0.7998645  0.779371   0.80708684 0.73892778]\n",
      " [0.56717226 0.55924098 0.60122825 0.54013409]\n",
      " [0.9576671  0.94841728 0.95379106 0.93842634]\n",
      " [0.86955861 0.88050027 0.88903868 0.90256266]\n",
      " [0.5639794  0.46810877 0.53339495 0.49065312]\n",
      " [0.68273276 0.69592272 0.71757077 0.69484887]\n",
      " [0.87716876 0.80649534 0.78525483 0.7512365 ]\n",
      " [0.94086448 0.93560987 0.95056366 0.92063454]\n",
      " [0.71745055 0.6316795  0.67984268 0.60466648]\n",
      " [0.80979889 0.79918902 0.8254418  0.74551065]]\n"
     ]
    }
   ],
   "source": [
    "mean_scores = np.mean(scores, axis=2).T\n",
    "print(\"\\nMean scores:\\n\", mean_scores)"
   ]
  },
  {
   "cell_type": "code",
   "execution_count": 3,
   "metadata": {},
   "outputs": [],
   "source": [
    "from sklearn.ensemble import AdaBoostClassifier\n",
    "from deslib.des.des_knn import DESKNN\n",
    "from deslib.des.knora_e import KNORAE\n",
    "from deslib.des.knora_u import KNORAU\n",
    "from implementedKNORAE import implementedKNORAE\n",
    "\n",
    "clfs = {\n",
    "    'AdB' : AdaBoostClassifier(),\n",
    "    'dkNN': DESKNN(),    \n",
    "    'knu': KNORAU(),\n",
    "    'ikne' : implementedKNORAE(),\n",
    "}"
   ]
  },
  {
   "cell_type": "code",
   "execution_count": 4,
   "metadata": {},
   "outputs": [
    {
     "name": "stdout",
     "output_type": "stream",
     "text": [
      "\n",
      "Ranks:\n",
      " [[3. 2. 4. 1.]\n",
      " [3. 2. 4. 1.]\n",
      " [4. 2. 3. 1.]\n",
      " [1. 2. 3. 4.]\n",
      " [4. 1. 3. 2.]\n",
      " [1. 3. 4. 2.]\n",
      " [4. 3. 2. 1.]\n",
      " [3. 2. 4. 1.]\n",
      " [4. 2. 3. 1.]\n",
      " [3. 2. 4. 1.]]\n"
     ]
    }
   ],
   "source": [
    "from scipy.stats import rankdata\n",
    "ranks = []\n",
    "for ms in mean_scores:\n",
    "    ranks.append(rankdata(ms).tolist())\n",
    "ranks = np.array(ranks)\n",
    "print(\"\\nRanks:\\n\", ranks)"
   ]
  },
  {
   "cell_type": "code",
   "execution_count": 5,
   "metadata": {},
   "outputs": [
    {
     "name": "stdout",
     "output_type": "stream",
     "text": [
      "\n",
      "Mean ranks:\n",
      " [3.  2.1 3.4 1.5]\n"
     ]
    }
   ],
   "source": [
    "mean_ranks = np.mean(ranks, axis=0)\n",
    "print(\"\\nMean ranks:\\n\", mean_ranks)"
   ]
  },
  {
   "cell_type": "code",
   "execution_count": 6,
   "metadata": {},
   "outputs": [],
   "source": [
    "from scipy.stats import ranksums\n",
    "\n",
    "alfa = .05\n",
    "w_statistic = np.zeros((len(clfs), len(clfs)))\n",
    "p_value = np.zeros((len(clfs), len(clfs)))\n",
    "\n",
    "for i in range(len(clfs)):\n",
    "    for j in range(len(clfs)):\n",
    "        w_statistic[i, j], p_value[i, j] = ranksums(ranks.T[i], ranks.T[j])"
   ]
  },
  {
   "cell_type": "code",
   "execution_count": 7,
   "metadata": {},
   "outputs": [
    {
     "name": "stdout",
     "output_type": "stream",
     "text": [
      "\n",
      "w-statistic:\n",
      "         AdB    dkNN    knu    ikne\n",
      "----  -----  ------  -----  ------\n",
      "AdB    0.00    2.04  -0.60    2.34\n",
      "dkNN  -2.04    0.00  -3.06    2.08\n",
      "knu    0.60    3.06   0.00    3.14\n",
      "ikne  -2.34   -2.08  -3.14    0.00 \n",
      "\n",
      "p-value:\n",
      "         AdB    dkNN    knu    ikne\n",
      "----  -----  ------  -----  ------\n",
      "AdB    1.00    0.04   0.55    0.02\n",
      "dkNN   0.04    1.00   0.00    0.04\n",
      "knu    0.55    0.00   1.00    0.00\n",
      "ikne   0.02    0.04   0.00    1.00\n"
     ]
    }
   ],
   "source": [
    "from tabulate import tabulate\n",
    "\n",
    "headers = list(clfs.keys())\n",
    "names_column = np.expand_dims(np.array(list(clfs.keys())), axis=1)\n",
    "w_statistic_table = np.concatenate((names_column, w_statistic), axis=1)\n",
    "w_statistic_table = tabulate(w_statistic_table, headers, floatfmt=\".2f\")\n",
    "p_value_table = np.concatenate((names_column, p_value), axis=1)\n",
    "p_value_table = tabulate(p_value_table, headers, floatfmt=\".2f\")\n",
    "print(\"\\nw-statistic:\\n\", w_statistic_table, \"\\n\\np-value:\\n\", p_value_table)"
   ]
  },
  {
   "cell_type": "code",
   "execution_count": 8,
   "metadata": {},
   "outputs": [
    {
     "name": "stdout",
     "output_type": "stream",
     "text": [
      "\n",
      "Advantage:\n",
      "         AdB    dkNN    knu    ikne\n",
      "----  -----  ------  -----  ------\n",
      "AdB       0       1      0       1\n",
      "dkNN      0       0      0       1\n",
      "knu       1       1      0       1\n",
      "ikne      0       0      0       0\n"
     ]
    }
   ],
   "source": [
    "advantage = np.zeros((len(clfs), len(clfs)))\n",
    "advantage[w_statistic > 0] = 1\n",
    "advantage_table = tabulate(np.concatenate(\n",
    "    (names_column, advantage), axis=1), headers)\n",
    "print(\"\\nAdvantage:\\n\", advantage_table)"
   ]
  },
  {
   "cell_type": "code",
   "execution_count": 9,
   "metadata": {},
   "outputs": [
    {
     "name": "stdout",
     "output_type": "stream",
     "text": [
      "\n",
      "Statistical significance (alpha = 0.05):\n",
      "         AdB    dkNN    knu    ikne\n",
      "----  -----  ------  -----  ------\n",
      "AdB       0       1      0       1\n",
      "dkNN      1       0      1       1\n",
      "knu       0       1      0       1\n",
      "ikne      1       1      1       0\n"
     ]
    }
   ],
   "source": [
    "significance = np.zeros((len(clfs), len(clfs)))\n",
    "significance[p_value <= alfa] = 1\n",
    "significance_table = tabulate(np.concatenate(\n",
    "    (names_column, significance), axis=1), headers)\n",
    "print(\"\\nStatistical significance (alpha = 0.05):\\n\", significance_table)"
   ]
  },
  {
   "cell_type": "code",
   "execution_count": 10,
   "metadata": {},
   "outputs": [
    {
     "name": "stdout",
     "output_type": "stream",
     "text": [
      "Statistically significantly better:\n",
      "         AdB    dkNN    knu    ikne\n",
      "----  -----  ------  -----  ------\n",
      "AdB       0       1      0       1\n",
      "dkNN      0       0      0       1\n",
      "knu       0       1      0       1\n",
      "ikne      0       0      0       0\n"
     ]
    }
   ],
   "source": [
    "stat_better = significance * advantage\n",
    "stat_better_table = tabulate(np.concatenate(\n",
    "    (names_column, stat_better), axis=1), headers)\n",
    "print(\"Statistically significantly better:\\n\", stat_better_table)"
   ]
  }
 ],
 "metadata": {
  "kernelspec": {
   "display_name": "Python 3",
   "language": "python",
   "name": "python3"
  },
  "language_info": {
   "codemirror_mode": {
    "name": "ipython",
    "version": 3
   },
   "file_extension": ".py",
   "mimetype": "text/x-python",
   "name": "python",
   "nbconvert_exporter": "python",
   "pygments_lexer": "ipython3",
   "version": "3.7.6"
  }
 },
 "nbformat": 4,
 "nbformat_minor": 4
}
