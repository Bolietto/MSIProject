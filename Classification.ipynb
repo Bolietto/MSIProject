{
 "cells": [
  {
   "cell_type": "code",
   "execution_count": 1,
   "metadata": {},
   "outputs": [],
   "source": [
    "from sklearn.ensemble import AdaBoostClassifier\n",
    "from deslib.des.des_knn import DESKNN\n",
    "from deslib.des.knora_e import KNORAE\n",
    "from deslib.des.knora_u import KNORAU\n",
    "from sklearn.tree import DecisionTreeClassifier\n",
    "from implementedKNORAE import implementedKNORAE\n",
    "\n",
    "import numpy as np\n",
    "from sklearn.model_selection import train_test_split\n",
    "from sklearn.model_selection import RepeatedStratifiedKFold\n",
    "from sklearn.metrics import accuracy_score\n",
    "from sklearn.metrics import precision_score\n",
    "from sklearn.metrics import recall_score\n",
    "from sklearn.metrics import f1_score\n",
    "from sklearn.base import clone\n"
   ]
  },
  {
   "cell_type": "code",
   "execution_count": 2,
   "metadata": {},
   "outputs": [],
   "source": [
    "clfs = {\n",
    "    'dkNN': DESKNN(),    \n",
    "    'knu': KNORAU(),\n",
    "    'ikne' : implementedKNORAE(),\n",
    "}"
   ]
  },
  {
   "cell_type": "code",
   "execution_count": 3,
   "metadata": {},
   "outputs": [],
   "source": [
    "#datasets = ['australian', 'balance', 'breastcan', 'heart']\n",
    "#datasets = ['bupa', 'liver', 'wdbc', 'monk-2', 'cryotherapy', 'sonar', 'australian', 'wisconsin', 'monkthree', 'heart']\n",
    "#datasets = ['australian', 'wisconsin', 'breastcan', 'cryotherapy', 'diabetes',\n",
    "#            'heart', 'ionosphere', 'liver', 'monkthree',  'sonar',]\n",
    "\n",
    "datasets = ['australian', 'bupa', 'breastcan', 'cryotherapy', 'diabetes', 'heart', 'ionosphere', 'wdbc', 'breastcancoimbra',  'sonar',]"
   ]
  },
  {
   "cell_type": "code",
   "execution_count": 4,
   "metadata": {},
   "outputs": [],
   "source": [
    "n_datasets = len(datasets)\n",
    "n_splits = 5\n",
    "n_repeats = 2\n",
    "rskf = RepeatedStratifiedKFold(\n",
    "    n_splits=n_splits, n_repeats=n_repeats, random_state=42)\n",
    "\n",
    "scores = np.zeros((len(clfs)+1, n_datasets, n_splits * n_repeats))\n",
    "\n",
    "precision_scores = np.zeros((len(clfs)+1, n_datasets, n_splits * n_repeats))\n",
    "recall_scores = np.zeros((len(clfs)+1, n_datasets, n_splits * n_repeats))\n",
    "f1_scores = np.zeros((len(clfs)+1, n_datasets, n_splits * n_repeats))"
   ]
  },
  {
   "cell_type": "code",
   "execution_count": 5,
   "metadata": {},
   "outputs": [],
   "source": [
    "for data_id, dataset in enumerate(datasets):\n",
    "    dataset = np.genfromtxt(\"datasets/%s.csv\" % (dataset), delimiter=\",\")\n",
    "    X = dataset[:, :-1]\n",
    "    y = dataset[:, -1].astype(int)\n",
    "\n",
    "    for fold_id, (train, test) in enumerate(rskf.split(X, y)):\n",
    "      \n",
    "        X_train, X_dsel, y_train, y_dsel = train_test_split(X[train], y[train], test_size=0.5, random_state=42)    \n",
    "        model = DecisionTreeClassifier(max_depth= 3, max_leaf_nodes = 4,random_state=42)\n",
    "        pool_classifiers = AdaBoostClassifier(base_estimator=model ,n_estimators=50)\n",
    "        pool_classifiers.fit(X_train, y_train)\n",
    "        y_pred = pool_classifiers.predict(X[test])            \n",
    "        scores[0, data_id, fold_id] = accuracy_score(y[test], y_pred)\n",
    "        precision_scores[0, data_id, fold_id] = precision_score(y[test], y_pred)\n",
    "        recall_scores[0, data_id, fold_id] = recall_score(y[test], y_pred)\n",
    "        f1_scores[0, data_id, fold_id] = f1_score(y[test], y_pred)\n",
    "      \n",
    "              \n",
    "        for clf_id, clf_name in enumerate(clfs):       \n",
    "            clf = clone(clfs[clf_name])\n",
    "            clf.pool_classifiers = pool_classifiers            \n",
    "            clf.fit(X_dsel, y_dsel)\n",
    "            y_pred = clf.predict(X[test])\n",
    "            scores[clf_id+1, data_id, fold_id] = accuracy_score(y[test], y_pred)\n",
    "            precision_scores[clf_id+1, data_id, fold_id] = precision_score(y[test], y_pred)\n",
    "            recall_scores[clf_id+1, data_id, fold_id] = recall_score(y[test], y_pred)\n",
    "            f1_scores[clf_id+1, data_id, fold_id] = f1_score(y[test], y_pred)"
   ]
  },
  {
   "cell_type": "code",
   "execution_count": 6,
   "metadata": {},
   "outputs": [
    {
     "name": "stdout",
     "output_type": "stream",
     "text": [
      "\n",
      "Mean scores:\n",
      " [[0.82536232 0.81014493 0.83478261 0.76956522]\n",
      " [0.64057971 0.65072464 0.68115942 0.62318841]\n",
      " [0.96998712 0.96414234 0.9677866  0.95756226]\n",
      " [0.86111111 0.87222222 0.88333333 0.9       ]\n",
      " [0.70180375 0.69401579 0.70763942 0.66275783]\n",
      " [0.73518519 0.73888889 0.75740741 0.73148148]\n",
      " [0.91871227 0.88034205 0.87173038 0.85042254]\n",
      " [0.95695544 0.95343114 0.96396522 0.9428893 ]\n",
      " [0.67210145 0.62101449 0.65960145 0.59528986]\n",
      " [0.78391405 0.78089431 0.80046458 0.73519164]]\n",
      "\n",
      "Mean precision scores:\n",
      " [[0.81640018 0.80591113 0.83190297 0.74649257]\n",
      " [0.58027115 0.59734117 0.64559743 0.55672091]\n",
      " [0.94794546 0.95202034 0.95856724 0.9471182 ]\n",
      " [0.88545455 0.89391414 0.90604895 0.92646465]\n",
      " [0.5769811  0.59672563 0.60404726 0.52180712]\n",
      " [0.74077937 0.72709034 0.75083045 0.70720842]\n",
      " [0.94509132 0.95652262 0.97126462 0.93334801]\n",
      " [0.96224712 0.96099853 0.96742972 0.95301444]\n",
      " [0.67608202 0.6756352  0.69819119 0.65090909]\n",
      " [0.77195941 0.78416856 0.78487843 0.77684046]]\n",
      "\n",
      "Mean recall scores:\n",
      " [[0.78836594 0.75698043 0.78984664 0.73278689]\n",
      " [0.56206897 0.54137931 0.57931034 0.52758621]\n",
      " [0.96861702 0.94565603 0.94977837 0.93111702]\n",
      " [0.86666667 0.87777778 0.88777778 0.88555556]\n",
      " [0.55614955 0.39367575 0.48689727 0.46673655]\n",
      " [0.6375     0.68333333 0.7        0.7       ]\n",
      " [0.82092308 0.69846154 0.66215385 0.63107692]\n",
      " [0.92225914 0.91273533 0.93621262 0.89147287]\n",
      " [0.77371795 0.60320513 0.68141026 0.57051282]\n",
      " [0.85652174 0.82035573 0.88359684 0.72549407]]\n",
      "\n",
      "Mean F1 scores:\n",
      " [[0.7998645  0.779371   0.80708684 0.73892778]\n",
      " [0.56717226 0.55924098 0.60122825 0.54013409]\n",
      " [0.9576671  0.94841728 0.95379106 0.93842634]\n",
      " [0.86955861 0.88050027 0.88903868 0.90256266]\n",
      " [0.5639794  0.46810877 0.53339495 0.49065312]\n",
      " [0.68273276 0.69592272 0.71757077 0.69484887]\n",
      " [0.87716876 0.80649534 0.78525483 0.7512365 ]\n",
      " [0.94086448 0.93560987 0.95056366 0.92063454]\n",
      " [0.71745055 0.6316795  0.67984268 0.60466648]\n",
      " [0.80979889 0.79918902 0.8254418  0.74551065]]\n"
     ]
    }
   ],
   "source": [
    "mean_scores = np.mean(scores, axis=2).T\n",
    "mean_precision_scores = np.mean(precision_scores, axis=2).T\n",
    "mean_recall_scores = np.mean(recall_scores, axis=2).T\n",
    "mean_f1_scores = np.mean(f1_scores, axis=2).T\n",
    "\n",
    "print(\"\\nMean scores:\\n\", mean_scores)\n",
    "\n",
    "print(\"\\nMean precision scores:\\n\", mean_precision_scores)\n",
    "\n",
    "print(\"\\nMean recall scores:\\n\", mean_recall_scores)\n",
    "\n",
    "print(\"\\nMean F1 scores:\\n\", mean_f1_scores)"
   ]
  },
  {
   "cell_type": "code",
   "execution_count": 7,
   "metadata": {},
   "outputs": [],
   "source": [
    "np.save('results', scores)\n",
    "np.save('results_prec', precision_scores)\n",
    "np.save('results_rec', recall_scores)\n",
    "np.save('results_f1', f1_scores)"
   ]
  }
 ],
 "metadata": {
  "kernelspec": {
   "display_name": "Python 3",
   "language": "python",
   "name": "python3"
  },
  "language_info": {
   "codemirror_mode": {
    "name": "ipython",
    "version": 3
   },
   "file_extension": ".py",
   "mimetype": "text/x-python",
   "name": "python",
   "nbconvert_exporter": "python",
   "pygments_lexer": "ipython3",
   "version": "3.7.6"
  }
 },
 "nbformat": 4,
 "nbformat_minor": 4
}
