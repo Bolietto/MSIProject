{
 "cells": [
  {
   "cell_type": "code",
   "execution_count": 1,
   "metadata": {},
   "outputs": [],
   "source": [
    "from sklearn.ensemble import AdaBoostClassifier\n",
    "from deslib.des.des_knn import DESKNN\n",
    "from deslib.des.knora_e import KNORAE\n",
    "from sklearn.tree import DecisionTreeClassifier\n",
    "from implementedKNORAE import implementedKNORAE\n",
    "\n",
    "import numpy as np\n",
    "from sklearn.model_selection import train_test_split\n",
    "from sklearn.model_selection import RepeatedStratifiedKFold\n",
    "from sklearn.metrics import accuracy_score\n",
    "from sklearn.base import clone\n"
   ]
  },
  {
   "cell_type": "code",
   "execution_count": 2,
   "metadata": {},
   "outputs": [],
   "source": [
    "clfs = {\n",
    "    'dkNN': DESKNN(),\n",
    "    'kne': KNORAE(),\n",
    "    'ikne' : implementedKNORAE(),\n",
    "}"
   ]
  },
  {
   "cell_type": "code",
   "execution_count": 3,
   "metadata": {},
   "outputs": [],
   "source": [
    "#datasets = ['australian', 'balance', 'breastcan', 'heart']\n",
    "#datasets = ['australian', 'heart']\n",
    "datasets = ['australian', 'wisconsin', 'breastcan', 'cryotherapy', 'diabetes',\n",
    "            'heart', 'ionosphere', 'liver', 'monkthree',  'sonar',]"
   ]
  },
  {
   "cell_type": "code",
   "execution_count": 4,
   "metadata": {},
   "outputs": [],
   "source": [
    "n_datasets = len(datasets)\n",
    "n_splits = 5\n",
    "n_repeats = 2\n",
    "rskf = RepeatedStratifiedKFold(\n",
    "    n_splits=n_splits, n_repeats=n_repeats, random_state=42)\n",
    "\n",
    "scores = np.zeros((len(clfs)+1, n_datasets, n_splits * n_repeats))"
   ]
  },
  {
   "cell_type": "code",
   "execution_count": 5,
   "metadata": {},
   "outputs": [],
   "source": [
    "for data_id, dataset in enumerate(datasets):\n",
    "    dataset = np.genfromtxt(\"datasets/%s.csv\" % (dataset), delimiter=\",\")\n",
    "    X = dataset[:, :-1]\n",
    "    y = dataset[:, -1].astype(int)\n",
    "\n",
    "    for fold_id, (train, test) in enumerate(rskf.split(X, y)):\n",
    "      \n",
    "        X_train, X_dsel, y_train, y_dsel = train_test_split(X[train], y[train], test_size=0.5, random_state=42)    \n",
    "        model = DecisionTreeClassifier(max_depth= 3, max_leaf_nodes = 4,random_state=42)\n",
    "        pool_classifiers = AdaBoostClassifier(base_estimator=model ,n_estimators=50)\n",
    "        pool_classifiers.fit(X_train, y_train)\n",
    "        y_pred = pool_classifiers.predict(X[test])            \n",
    "        scores[0, data_id, fold_id] = accuracy_score(y[test], y_pred)\n",
    "      \n",
    "              \n",
    "        for clf_id, clf_name in enumerate(clfs):       \n",
    "            clf = clone(clfs[clf_name])\n",
    "            clf.pool_classifiers = pool_classifiers            \n",
    "            clf.fit(X_dsel, y_dsel)\n",
    "            y_pred = clf.predict(X[test])\n",
    "            scores[clf_id+1, data_id, fold_id] = accuracy_score(y[test], y_pred)"
   ]
  },
  {
   "cell_type": "code",
   "execution_count": 6,
   "metadata": {},
   "outputs": [
    {
     "name": "stdout",
     "output_type": "stream",
     "text": [
      "\n",
      "Mean scores:\n",
      " [[0.82681159 0.81086957 0.76956522 0.76956522]\n",
      " [0.95135149 0.9527852  0.93205036 0.93349435]\n",
      " [0.96633748 0.96706204 0.95902748 0.96194719]\n",
      " [0.86111111 0.88888889 0.89444444 0.88888889]\n",
      " [0.70180375 0.69401579 0.66275783 0.65690094]\n",
      " [0.73518519 0.73703704 0.72962963 0.70740741]\n",
      " [0.91299799 0.87891348 0.84185111 0.86754527]\n",
      " [0.61594203 0.64202899 0.59275362 0.59710145]\n",
      " [0.97472563 0.96210483 0.96662572 0.96841114]\n",
      " [0.77897793 0.80487805 0.73060395 0.720964  ]]\n"
     ]
    }
   ],
   "source": [
    "mean_scores = np.mean(scores, axis=2).T\n",
    "print(\"\\nMean scores:\\n\", mean_scores)"
   ]
  },
  {
   "cell_type": "code",
   "execution_count": 7,
   "metadata": {},
   "outputs": [],
   "source": [
    "np.save('results', scores)"
   ]
  }
 ],
 "metadata": {
  "kernelspec": {
   "display_name": "Python 3",
   "language": "python",
   "name": "python3"
  },
  "language_info": {
   "codemirror_mode": {
    "name": "ipython",
    "version": 3
   },
   "file_extension": ".py",
   "mimetype": "text/x-python",
   "name": "python",
   "nbconvert_exporter": "python",
   "pygments_lexer": "ipython3",
   "version": "3.7.6"
  }
 },
 "nbformat": 4,
 "nbformat_minor": 4
}
