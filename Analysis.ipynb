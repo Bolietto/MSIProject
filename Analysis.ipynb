{
 "cells": [
  {
   "cell_type": "code",
   "execution_count": 1,
   "metadata": {},
   "outputs": [
    {
     "name": "stdout",
     "output_type": "stream",
     "text": [
      "\n",
      "Scores:\n",
      " (4, 10, 10)\n"
     ]
    }
   ],
   "source": [
    "import numpy as np\n",
    "\n",
    "scores = np.load('results.npy')\n",
    "print(\"\\nScores:\\n\", scores.shape)\n"
   ]
  },
  {
   "cell_type": "code",
   "execution_count": 2,
   "metadata": {},
   "outputs": [
    {
     "name": "stdout",
     "output_type": "stream",
     "text": [
      "\n",
      "Mean scores:\n",
      " [[0.82681159 0.81086957 0.76956522 0.76956522]\n",
      " [0.95135149 0.9527852  0.93205036 0.93349435]\n",
      " [0.96633748 0.96706204 0.95902748 0.96194719]\n",
      " [0.86111111 0.88888889 0.89444444 0.88888889]\n",
      " [0.70180375 0.69401579 0.66275783 0.65690094]\n",
      " [0.73518519 0.73703704 0.72962963 0.70740741]\n",
      " [0.91299799 0.87891348 0.84185111 0.86754527]\n",
      " [0.61594203 0.64202899 0.59275362 0.59710145]\n",
      " [0.97472563 0.96210483 0.96662572 0.96841114]\n",
      " [0.77897793 0.80487805 0.73060395 0.720964  ]]\n"
     ]
    }
   ],
   "source": [
    "mean_scores = np.mean(scores, axis=2).T\n",
    "print(\"\\nMean scores:\\n\", mean_scores)"
   ]
  },
  {
   "cell_type": "code",
   "execution_count": 3,
   "metadata": {},
   "outputs": [],
   "source": [
    "from sklearn.ensemble import AdaBoostClassifier\n",
    "from deslib.des.des_knn import DESKNN\n",
    "from deslib.des.knora_e import KNORAE\n",
    "from implementedKNORAE import implementedKNORAE\n",
    "\n",
    "clfs = {\n",
    "    'AdB' : AdaBoostClassifier(),\n",
    "    'dkNN': DESKNN(),\n",
    "    'kne': KNORAE(),\n",
    "    'ikne' : implementedKNORAE(),\n",
    "}"
   ]
  },
  {
   "cell_type": "code",
   "execution_count": 4,
   "metadata": {},
   "outputs": [
    {
     "name": "stdout",
     "output_type": "stream",
     "text": [
      "\n",
      "Ranks:\n",
      " [[4.  3.  1.  2. ]\n",
      " [3.  4.  1.  2. ]\n",
      " [3.  4.  1.  2. ]\n",
      " [1.  2.5 4.  2.5]\n",
      " [4.  3.  2.  1. ]\n",
      " [3.  4.  2.  1. ]\n",
      " [4.  3.  1.  2. ]\n",
      " [3.  4.  1.  2. ]\n",
      " [4.  1.  2.  3. ]\n",
      " [3.  4.  2.  1. ]]\n"
     ]
    }
   ],
   "source": [
    "from scipy.stats import rankdata\n",
    "ranks = []\n",
    "for ms in mean_scores:\n",
    "    ranks.append(rankdata(ms).tolist())\n",
    "ranks = np.array(ranks)\n",
    "print(\"\\nRanks:\\n\", ranks)"
   ]
  },
  {
   "cell_type": "code",
   "execution_count": 5,
   "metadata": {},
   "outputs": [
    {
     "name": "stdout",
     "output_type": "stream",
     "text": [
      "\n",
      "Mean ranks:\n",
      " [3.2  3.25 1.7  1.85]\n"
     ]
    }
   ],
   "source": [
    "mean_ranks = np.mean(ranks, axis=0)\n",
    "print(\"\\nMean ranks:\\n\", mean_ranks)"
   ]
  },
  {
   "cell_type": "code",
   "execution_count": 6,
   "metadata": {},
   "outputs": [],
   "source": [
    "from scipy.stats import ranksums\n",
    "\n",
    "alfa = .05\n",
    "w_statistic = np.zeros((len(clfs), len(clfs)))\n",
    "p_value = np.zeros((len(clfs), len(clfs)))\n",
    "\n",
    "for i in range(len(clfs)):\n",
    "    for j in range(len(clfs)):\n",
    "        w_statistic[i, j], p_value[i, j] = ranksums(ranks.T[i], ranks.T[j])"
   ]
  },
  {
   "cell_type": "code",
   "execution_count": 7,
   "metadata": {},
   "outputs": [
    {
     "name": "stdout",
     "output_type": "stream",
     "text": [
      "\n",
      "w-statistic:\n",
      "         AdB    dkNN    kne    ikne\n",
      "----  -----  ------  -----  ------\n",
      "AdB    0.00   -0.15   2.68    2.95\n",
      "dkNN   0.15    0.00   2.72    2.91\n",
      "kne   -2.68   -2.72   0.00   -0.79\n",
      "ikne  -2.95   -2.91   0.79    0.00 \n",
      "\n",
      "p-value:\n",
      "         AdB    dkNN    kne    ikne\n",
      "----  -----  ------  -----  ------\n",
      "AdB    1.00    0.88   0.01    0.00\n",
      "dkNN   0.88    1.00   0.01    0.00\n",
      "kne    0.01    0.01   1.00    0.43\n",
      "ikne   0.00    0.00   0.43    1.00\n"
     ]
    }
   ],
   "source": [
    "from tabulate import tabulate\n",
    "\n",
    "headers = list(clfs.keys())\n",
    "names_column = np.expand_dims(np.array(list(clfs.keys())), axis=1)\n",
    "w_statistic_table = np.concatenate((names_column, w_statistic), axis=1)\n",
    "w_statistic_table = tabulate(w_statistic_table, headers, floatfmt=\".2f\")\n",
    "p_value_table = np.concatenate((names_column, p_value), axis=1)\n",
    "p_value_table = tabulate(p_value_table, headers, floatfmt=\".2f\")\n",
    "print(\"\\nw-statistic:\\n\", w_statistic_table, \"\\n\\np-value:\\n\", p_value_table)"
   ]
  },
  {
   "cell_type": "code",
   "execution_count": 8,
   "metadata": {},
   "outputs": [
    {
     "name": "stdout",
     "output_type": "stream",
     "text": [
      "\n",
      "Advantage:\n",
      "         AdB    dkNN    kne    ikne\n",
      "----  -----  ------  -----  ------\n",
      "AdB       0       0      1       1\n",
      "dkNN      1       0      1       1\n",
      "kne       0       0      0       0\n",
      "ikne      0       0      1       0\n"
     ]
    }
   ],
   "source": [
    "advantage = np.zeros((len(clfs), len(clfs)))\n",
    "advantage[w_statistic > 0] = 1\n",
    "advantage_table = tabulate(np.concatenate(\n",
    "    (names_column, advantage), axis=1), headers)\n",
    "print(\"\\nAdvantage:\\n\", advantage_table)"
   ]
  },
  {
   "cell_type": "code",
   "execution_count": 9,
   "metadata": {},
   "outputs": [
    {
     "name": "stdout",
     "output_type": "stream",
     "text": [
      "\n",
      "Statistical significance (alpha = 0.05):\n",
      "         AdB    dkNN    kne    ikne\n",
      "----  -----  ------  -----  ------\n",
      "AdB       0       0      1       1\n",
      "dkNN      0       0      1       1\n",
      "kne       1       1      0       0\n",
      "ikne      1       1      0       0\n"
     ]
    }
   ],
   "source": [
    "significance = np.zeros((len(clfs), len(clfs)))\n",
    "significance[p_value <= alfa] = 1\n",
    "significance_table = tabulate(np.concatenate(\n",
    "    (names_column, significance), axis=1), headers)\n",
    "print(\"\\nStatistical significance (alpha = 0.05):\\n\", significance_table)"
   ]
  },
  {
   "cell_type": "code",
   "execution_count": 10,
   "metadata": {},
   "outputs": [
    {
     "name": "stdout",
     "output_type": "stream",
     "text": [
      "Statistically significantly better:\n",
      "         AdB    dkNN    kne    ikne\n",
      "----  -----  ------  -----  ------\n",
      "AdB       0       0      1       1\n",
      "dkNN      0       0      1       1\n",
      "kne       0       0      0       0\n",
      "ikne      0       0      0       0\n"
     ]
    }
   ],
   "source": [
    "stat_better = significance * advantage\n",
    "stat_better_table = tabulate(np.concatenate(\n",
    "    (names_column, stat_better), axis=1), headers)\n",
    "print(\"Statistically significantly better:\\n\", stat_better_table)"
   ]
  }
 ],
 "metadata": {
  "kernelspec": {
   "display_name": "Python 3",
   "language": "python",
   "name": "python3"
  },
  "language_info": {
   "codemirror_mode": {
    "name": "ipython",
    "version": 3
   },
   "file_extension": ".py",
   "mimetype": "text/x-python",
   "name": "python",
   "nbconvert_exporter": "python",
   "pygments_lexer": "ipython3",
   "version": "3.7.6"
  }
 },
 "nbformat": 4,
 "nbformat_minor": 4
}
